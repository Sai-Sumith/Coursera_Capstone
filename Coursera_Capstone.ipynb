{
  "nbformat": 4,
  "nbformat_minor": 0,
  "metadata": {
    "colab": {
      "name": "Coursera_Capstone.ipynb",
      "provenance": []
    },
    "kernelspec": {
      "name": "python3",
      "display_name": "Python 3"
    }
  },
  "cells": [
    {
      "cell_type": "markdown",
      "metadata": {
        "id": "WojUOGYXvA6T",
        "colab_type": "text"
      },
      "source": [
        "**Import Libraries** "
      ]
    },
    {
      "cell_type": "code",
      "metadata": {
        "id": "35sgEkpMu77-",
        "colab_type": "code",
        "colab": {}
      },
      "source": [
        "import pandas as pd\n",
        "import numpy as np\n"
      ],
      "execution_count": 0,
      "outputs": []
    },
    {
      "cell_type": "markdown",
      "metadata": {
        "id": "G1GKyE22veHb",
        "colab_type": "text"
      },
      "source": [
        "**Simple Test**(to validate environment)"
      ]
    },
    {
      "cell_type": "code",
      "metadata": {
        "id": "3Ak3AtPsvdqi",
        "colab_type": "code",
        "colab": {
          "base_uri": "https://localhost:8080/",
          "height": 34
        },
        "outputId": "33713d60-7f96-4f76-a954-56835e7c155f"
      },
      "source": [
        "print(\"Hello This is sample printing statement\")"
      ],
      "execution_count": 3,
      "outputs": [
        {
          "output_type": "stream",
          "text": [
            "Hello This is sample printing statement\n"
          ],
          "name": "stdout"
        }
      ]
    }
  ]
}