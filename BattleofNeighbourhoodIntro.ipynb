{
 "cells": [
  {
   "cell_type": "markdown",
   "metadata": {},
   "source": [
    "# Problem Description"
   ]
  },
  {
   "cell_type": "markdown",
   "metadata": {},
   "source": [
    "\n",
    "In this report, I would like to address the question of where to open a new cafe in Cambridge, UK. The potential stakeholders are the people who are interested in opening a new cafe business in the Cambridge area. The general rationale behind this analysis is to balance an exploration and exploitation of different areas.\n",
    "\n",
    "An area with a relatively small number of cafes means less competition, but it also might mean that there aren't many potential customers. An area with a large number of cafes could mean that it maybe near a tourist attraction, thus plenty of potential customers. However, it would also mean that it is fairly competitive.\n",
    "\n",
    "We will aim to address this problem along these two directions.\n"
   ]
  },
  {
   "cell_type": "markdown",
   "metadata": {},
   "source": [
    "# Data Description\n"
   ]
  },
  {
   "cell_type": "markdown",
   "metadata": {},
   "source": [
    "The data that I will be using are obtained using the Foursquare API, which contains the location information of different cafes in Cambridge, UK.\n",
    "\n",
    "Below are my code for obtaining the data, and an initial exploratory analysis."
   ]
  },
  {
   "cell_type": "code",
   "execution_count": 1,
   "metadata": {},
   "outputs": [
    {
     "name": "stdout",
     "output_type": "stream",
     "text": [
      "Collecting package metadata (current_repodata.json): done\n",
      "Solving environment: failed with initial frozen solve. Retrying with flexible solve.\n",
      "Collecting package metadata (repodata.json): done\n",
      "Solving environment: done\n",
      "\n",
      "## Package Plan ##\n",
      "\n",
      "  environment location: /home/sumith/anaconda3\n",
      "\n",
      "  added / updated specs:\n",
      "    - folium=0.5.0\n",
      "\n",
      "\n",
      "The following packages will be downloaded:\n",
      "\n",
      "    package                    |            build\n",
      "    ---------------------------|-----------------\n",
      "    altair-4.1.0               |             py_1         614 KB  conda-forge\n",
      "    branca-0.4.1               |             py_0          26 KB  conda-forge\n",
      "    certifi-2019.11.28         |           py37_0         148 KB  conda-forge\n",
      "    folium-0.5.0               |             py_0          45 KB  conda-forge\n",
      "    vincent-0.4.4              |             py_1          28 KB  conda-forge\n",
      "    ------------------------------------------------------------\n",
      "                                           Total:         861 KB\n",
      "\n",
      "The following NEW packages will be INSTALLED:\n",
      "\n",
      "  altair             conda-forge/noarch::altair-4.1.0-py_1\n",
      "  branca             conda-forge/noarch::branca-0.4.1-py_0\n",
      "  folium             conda-forge/noarch::folium-0.5.0-py_0\n",
      "  vincent            conda-forge/noarch::vincent-0.4.4-py_1\n",
      "\n",
      "The following packages will be SUPERSEDED by a higher-priority channel:\n",
      "\n",
      "  certifi                                         pkgs/main --> conda-forge\n",
      "\n",
      "\n",
      "\n",
      "Downloading and Extracting Packages\n",
      "certifi-2019.11.28   | 148 KB    | ##################################### | 100% \n",
      "folium-0.5.0         | 45 KB     | ##################################### | 100% \n",
      "branca-0.4.1         | 26 KB     | ##################################### | 100% \n",
      "vincent-0.4.4        | 28 KB     | ##################################### | 100% \n",
      "altair-4.1.0         | 614 KB    | ##################################### | 100% \n",
      "Preparing transaction: done\n",
      "Verifying transaction: done\n",
      "Executing transaction: done\n"
     ]
    }
   ],
   "source": [
    "!conda install -c conda-forge folium=0.5.0 --yes"
   ]
  },
  {
   "cell_type": "code",
   "execution_count": 2,
   "metadata": {},
   "outputs": [],
   "source": [
    "import folium # plotting library\n",
    "import pandas as pd # library for data analsysis\n",
    "import numpy as np # library to handle data in a vectorized manner"
   ]
  },
  {
   "cell_type": "code",
   "execution_count": 7,
   "metadata": {},
   "outputs": [],
   "source": [
    "CLIENT_ID='3XFQLXVHON2L2N4IY5TRGHQQGMXDBESFGW2JAYIEIM0L1B11'\n",
    "CLIENT_SECRET='B2XJXWY55LPL3VUBMGJCPMFAGVXJMADTUKX5ANENCFF2XKK1'"
   ]
  },
  {
   "cell_type": "code",
   "execution_count": 8,
   "metadata": {},
   "outputs": [],
   "source": [
    "import requests\n",
    "\n",
    "request_parameters = {\n",
    "    \"client_id\": CLIENT_ID,\n",
    "    \"client_secret\": CLIENT_SECRET,\n",
    "    \"v\": '20180604',\n",
    "    \"section\": \"coffee\",\n",
    "    \"near\": \"Cambridge, UK\",\n",
    "    \"radius\": 1000,\n",
    "    \"limit\": 1000}\n",
    "\n",
    "data = requests.get(\"https://api.foursquare.com/v2/venues/explore\", params=request_parameters)"
   ]
  },
  {
   "cell_type": "code",
   "execution_count": 9,
   "metadata": {},
   "outputs": [
    {
     "data": {
      "text/plain": [
       "dict_keys(['suggestedFilters', 'geocode', 'headerLocation', 'headerFullLocation', 'headerLocationGranularity', 'query', 'totalResults', 'suggestedBounds', 'groups'])"
      ]
     },
     "execution_count": 9,
     "metadata": {},
     "output_type": "execute_result"
    }
   ],
   "source": [
    "d = data.json()[\"response\"]\n",
    "d.keys()"
   ]
  },
  {
   "cell_type": "code",
   "execution_count": 10,
   "metadata": {},
   "outputs": [
    {
     "name": "stdout",
     "output_type": "stream",
     "text": [
      "found 36 cafes\n"
     ]
    },
    {
     "data": {
      "text/html": [
       "<div>\n",
       "<style scoped>\n",
       "    .dataframe tbody tr th:only-of-type {\n",
       "        vertical-align: middle;\n",
       "    }\n",
       "\n",
       "    .dataframe tbody tr th {\n",
       "        vertical-align: top;\n",
       "    }\n",
       "\n",
       "    .dataframe thead th {\n",
       "        text-align: right;\n",
       "    }\n",
       "</style>\n",
       "<table border=\"1\" class=\"dataframe\">\n",
       "  <thead>\n",
       "    <tr style=\"text-align: right;\">\n",
       "      <th></th>\n",
       "      <th>uid</th>\n",
       "      <th>name</th>\n",
       "      <th>shortname</th>\n",
       "      <th>address</th>\n",
       "      <th>postalcode</th>\n",
       "      <th>lat</th>\n",
       "      <th>lng</th>\n",
       "    </tr>\n",
       "  </thead>\n",
       "  <tbody>\n",
       "    <tr>\n",
       "      <th>0</th>\n",
       "      <td>5499607c498e80876defe57d</td>\n",
       "      <td>Hot Numbers</td>\n",
       "      <td>Coffee Shop</td>\n",
       "      <td>4 Trumpington St</td>\n",
       "      <td>CB2 1QA</td>\n",
       "      <td>52.198515</td>\n",
       "      <td>0.121923</td>\n",
       "    </tr>\n",
       "    <tr>\n",
       "      <th>1</th>\n",
       "      <td>5184c967498e0b8ab6cae4ba</td>\n",
       "      <td>Aromi</td>\n",
       "      <td>Café</td>\n",
       "      <td>1 Bene’t Street</td>\n",
       "      <td>CB2 3QN</td>\n",
       "      <td>52.204278</td>\n",
       "      <td>0.118949</td>\n",
       "    </tr>\n",
       "    <tr>\n",
       "      <th>2</th>\n",
       "      <td>4c01057d19d8c928e2258829</td>\n",
       "      <td>Savino's</td>\n",
       "      <td>Café</td>\n",
       "      <td>3 Emmanuel St</td>\n",
       "      <td>CB1 1NE</td>\n",
       "      <td>52.204327</td>\n",
       "      <td>0.123427</td>\n",
       "    </tr>\n",
       "    <tr>\n",
       "      <th>3</th>\n",
       "      <td>4bb20522f964a52083b23ce3</td>\n",
       "      <td>Michaelhouse Café</td>\n",
       "      <td>Café</td>\n",
       "      <td>St Michael's Church</td>\n",
       "      <td>CB2 1SU</td>\n",
       "      <td>52.206008</td>\n",
       "      <td>0.118124</td>\n",
       "    </tr>\n",
       "    <tr>\n",
       "      <th>4</th>\n",
       "      <td>586a4fb4561ded113af769fd</td>\n",
       "      <td>Bould Brothers Coffee</td>\n",
       "      <td>Coffee Shop</td>\n",
       "      <td>16 Round Church St</td>\n",
       "      <td>CB5 8AD</td>\n",
       "      <td>52.208555</td>\n",
       "      <td>0.118677</td>\n",
       "    </tr>\n",
       "  </tbody>\n",
       "</table>\n",
       "</div>"
      ],
      "text/plain": [
       "                        uid                   name    shortname  \\\n",
       "0  5499607c498e80876defe57d            Hot Numbers  Coffee Shop   \n",
       "1  5184c967498e0b8ab6cae4ba                  Aromi         Café   \n",
       "2  4c01057d19d8c928e2258829               Savino's         Café   \n",
       "3  4bb20522f964a52083b23ce3      Michaelhouse Café         Café   \n",
       "4  586a4fb4561ded113af769fd  Bould Brothers Coffee  Coffee Shop   \n",
       "\n",
       "               address postalcode        lat       lng  \n",
       "0     4 Trumpington St    CB2 1QA  52.198515  0.121923  \n",
       "1      1 Bene’t Street    CB2 3QN  52.204278  0.118949  \n",
       "2        3 Emmanuel St    CB1 1NE  52.204327  0.123427  \n",
       "3  St Michael's Church    CB2 1SU  52.206008  0.118124  \n",
       "4   16 Round Church St    CB5 8AD  52.208555  0.118677  "
      ]
     },
     "execution_count": 10,
     "metadata": {},
     "output_type": "execute_result"
    }
   ],
   "source": [
    "items = d[\"groups\"][0][\"items\"]\n",
    "\n",
    "df_raw = []\n",
    "for item in items:\n",
    "    venue = item[\"venue\"]\n",
    "    categories, uid, name, location = venue[\"categories\"], venue[\"id\"], venue[\"name\"], venue[\"location\"]\n",
    "    assert len(categories) == 1\n",
    "    shortname = categories[0][\"shortName\"]\n",
    "    \n",
    "    if not \"address\" in location:\n",
    "        continue\n",
    "    address = location['address']\n",
    "    \n",
    "    if not \"postalCode\" in location:\n",
    "        continue\n",
    "    postalcode = location[\"postalCode\"]\n",
    "    lat = location[\"lat\"]\n",
    "    lng = location[\"lng\"]\n",
    "    \n",
    "    datarow = (uid, name, shortname, address, postalcode, lat, lng)\n",
    "    df_raw.append(datarow)\n",
    "\n",
    "df = pd.DataFrame(df_raw, columns=[\"uid\", \"name\", \"shortname\", \"address\", \"postalcode\", \"lat\", \"lng\"])\n",
    "print(\"found %i cafes\" % len(df))\n",
    "df.head()"
   ]
  },
  {
   "cell_type": "code",
   "execution_count": 11,
   "metadata": {},
   "outputs": [
    {
     "data": {
      "text/plain": [
       "{'what': '',\n",
       " 'where': 'cambridge uk',\n",
       " 'center': {'lat': 52.2, 'lng': 0.11667},\n",
       " 'displayString': 'Cambridge, Cambridgeshire, United Kingdom',\n",
       " 'cc': 'GB',\n",
       " 'geometry': {'bounds': {'ne': {'lat': 52.23097999999993,\n",
       "    'lng': 0.17491199999983564},\n",
       "   'sw': {'lat': 52.17158499999988, 'lng': 0.09852149999989024}}},\n",
       " 'slug': 'cambridge-united-kingdom',\n",
       " 'longId': '72057594040581877'}"
      ]
     },
     "execution_count": 11,
     "metadata": {},
     "output_type": "execute_result"
    }
   ],
   "source": [
    "d[\"geocode\"]"
   ]
  },
  {
   "cell_type": "code",
   "execution_count": 19,
   "metadata": {},
   "outputs": [
    {
     "data": {
      "text/html": [
       "<div style=\"width:100%;\"><div style=\"position:relative;width:100%;height:0;padding-bottom:60%;\"><span style=\"color:#565656\">Make this Notebook Trusted to load map: File -> Trust Notebook</span><iframe src=\"about:blank\" style=\"position:absolute;width:100%;height:100%;left:0;top:0;border:none !important;\" data-html=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 onload=\"this.contentDocument.open();this.contentDocument.write(atob(this.getAttribute('data-html')));this.contentDocument.close();\" allowfullscreen webkitallowfullscreen mozallowfullscreen></iframe></div></div>"
      ],
      "text/plain": [
       "<folium.folium.Map at 0x7f752c095150>"
      ]
     },
     "execution_count": 19,
     "metadata": {},
     "output_type": "execute_result"
    }
   ],
   "source": [
    "cambridge_centre = d[\"geocode\"][\"center\"]\n",
    "\n",
    "from folium import plugins\n",
    "\n",
    "# create map of Cambridge using latitude and longitude values\n",
    "cambridge_map = folium.Map(location = [cambridge_centre[\"lat\"], cambridge_centre[\"lng\"]], zoom_start = 15)\n",
    "\n",
    "def add_markers(df):\n",
    "    for (j, row) in df.iterrows():\n",
    "        label = folium.Popup(row[\"name\"], parse_html = True)\n",
    "        folium.CircleMarker(\n",
    "            [row[\"lat\"], row[\"lng\"]],\n",
    "            radius = 6,\n",
    "            popup = label,\n",
    "            color = 'blue',\n",
    "            fill = True,\n",
    "            fill_color = '#3186cc',\n",
    "            fill_opacity = 0.7,\n",
    "            parse_html = False).add_to(cambridge_map)\n",
    "\n",
    "add_markers(df)\n",
    "hm_data = df[[\"lat\", \"lng\"]].values.tolist()\n",
    "cambridge_map.add_child(plugins.HeatMap(hm_data))\n",
    "\n",
    "cambridge_map"
   ]
  },
  {
   "cell_type": "code",
   "execution_count": 18,
   "metadata": {},
   "outputs": [
    {
     "ename": "FileNotFoundError",
     "evalue": "[Errno 2] No such file or directory: 'Cambridge_map.png'",
     "output_type": "error",
     "traceback": [
      "\u001b[0;31m---------------------------------------------------------------------------\u001b[0m",
      "\u001b[0;31mFileNotFoundError\u001b[0m                         Traceback (most recent call last)",
      "\u001b[0;32m<ipython-input-18-50e18d135f18>\u001b[0m in \u001b[0;36m<module>\u001b[0;34m\u001b[0m\n\u001b[1;32m      1\u001b[0m \u001b[0;32mfrom\u001b[0m \u001b[0mIPython\u001b[0m\u001b[0;34m.\u001b[0m\u001b[0mdisplay\u001b[0m \u001b[0;32mimport\u001b[0m \u001b[0mdisplay\u001b[0m\u001b[0;34m,\u001b[0m \u001b[0mImage\u001b[0m\u001b[0;34m\u001b[0m\u001b[0;34m\u001b[0m\u001b[0m\n\u001b[0;32m----> 2\u001b[0;31m \u001b[0mdisplay\u001b[0m\u001b[0;34m(\u001b[0m\u001b[0mImage\u001b[0m\u001b[0;34m(\u001b[0m\u001b[0mfilename\u001b[0m\u001b[0;34m=\u001b[0m\u001b[0;34m'Cambridge_map.png'\u001b[0m\u001b[0;34m)\u001b[0m\u001b[0;34m)\u001b[0m\u001b[0;34m\u001b[0m\u001b[0;34m\u001b[0m\u001b[0m\n\u001b[0m",
      "\u001b[0;32m~/anaconda3/lib/python3.7/site-packages/IPython/core/display.py\u001b[0m in \u001b[0;36m__init__\u001b[0;34m(self, data, url, filename, format, embed, width, height, retina, unconfined, metadata)\u001b[0m\n\u001b[1;32m   1202\u001b[0m         \u001b[0mself\u001b[0m\u001b[0;34m.\u001b[0m\u001b[0munconfined\u001b[0m \u001b[0;34m=\u001b[0m \u001b[0munconfined\u001b[0m\u001b[0;34m\u001b[0m\u001b[0;34m\u001b[0m\u001b[0m\n\u001b[1;32m   1203\u001b[0m         super(Image, self).__init__(data=data, url=url, filename=filename, \n\u001b[0;32m-> 1204\u001b[0;31m                 metadata=metadata)\n\u001b[0m\u001b[1;32m   1205\u001b[0m \u001b[0;34m\u001b[0m\u001b[0m\n\u001b[1;32m   1206\u001b[0m         \u001b[0;32mif\u001b[0m \u001b[0mself\u001b[0m\u001b[0;34m.\u001b[0m\u001b[0mwidth\u001b[0m \u001b[0;32mis\u001b[0m \u001b[0;32mNone\u001b[0m \u001b[0;32mand\u001b[0m \u001b[0mself\u001b[0m\u001b[0;34m.\u001b[0m\u001b[0mmetadata\u001b[0m\u001b[0;34m.\u001b[0m\u001b[0mget\u001b[0m\u001b[0;34m(\u001b[0m\u001b[0;34m'width'\u001b[0m\u001b[0;34m,\u001b[0m \u001b[0;34m{\u001b[0m\u001b[0;34m}\u001b[0m\u001b[0;34m)\u001b[0m\u001b[0;34m:\u001b[0m\u001b[0;34m\u001b[0m\u001b[0;34m\u001b[0m\u001b[0m\n",
      "\u001b[0;32m~/anaconda3/lib/python3.7/site-packages/IPython/core/display.py\u001b[0m in \u001b[0;36m__init__\u001b[0;34m(self, data, url, filename, metadata)\u001b[0m\n\u001b[1;32m    625\u001b[0m             \u001b[0mself\u001b[0m\u001b[0;34m.\u001b[0m\u001b[0mmetadata\u001b[0m \u001b[0;34m=\u001b[0m \u001b[0;34m{\u001b[0m\u001b[0;34m}\u001b[0m\u001b[0;34m\u001b[0m\u001b[0;34m\u001b[0m\u001b[0m\n\u001b[1;32m    626\u001b[0m \u001b[0;34m\u001b[0m\u001b[0m\n\u001b[0;32m--> 627\u001b[0;31m         \u001b[0mself\u001b[0m\u001b[0;34m.\u001b[0m\u001b[0mreload\u001b[0m\u001b[0;34m(\u001b[0m\u001b[0;34m)\u001b[0m\u001b[0;34m\u001b[0m\u001b[0;34m\u001b[0m\u001b[0m\n\u001b[0m\u001b[1;32m    628\u001b[0m         \u001b[0mself\u001b[0m\u001b[0;34m.\u001b[0m\u001b[0m_check_data\u001b[0m\u001b[0;34m(\u001b[0m\u001b[0;34m)\u001b[0m\u001b[0;34m\u001b[0m\u001b[0;34m\u001b[0m\u001b[0m\n\u001b[1;32m    629\u001b[0m \u001b[0;34m\u001b[0m\u001b[0m\n",
      "\u001b[0;32m~/anaconda3/lib/python3.7/site-packages/IPython/core/display.py\u001b[0m in \u001b[0;36mreload\u001b[0;34m(self)\u001b[0m\n\u001b[1;32m   1233\u001b[0m         \u001b[0;34m\"\"\"Reload the raw data from file or URL.\"\"\"\u001b[0m\u001b[0;34m\u001b[0m\u001b[0;34m\u001b[0m\u001b[0m\n\u001b[1;32m   1234\u001b[0m         \u001b[0;32mif\u001b[0m \u001b[0mself\u001b[0m\u001b[0;34m.\u001b[0m\u001b[0membed\u001b[0m\u001b[0;34m:\u001b[0m\u001b[0;34m\u001b[0m\u001b[0;34m\u001b[0m\u001b[0m\n\u001b[0;32m-> 1235\u001b[0;31m             \u001b[0msuper\u001b[0m\u001b[0;34m(\u001b[0m\u001b[0mImage\u001b[0m\u001b[0;34m,\u001b[0m\u001b[0mself\u001b[0m\u001b[0;34m)\u001b[0m\u001b[0;34m.\u001b[0m\u001b[0mreload\u001b[0m\u001b[0;34m(\u001b[0m\u001b[0;34m)\u001b[0m\u001b[0;34m\u001b[0m\u001b[0;34m\u001b[0m\u001b[0m\n\u001b[0m\u001b[1;32m   1236\u001b[0m             \u001b[0;32mif\u001b[0m \u001b[0mself\u001b[0m\u001b[0;34m.\u001b[0m\u001b[0mretina\u001b[0m\u001b[0;34m:\u001b[0m\u001b[0;34m\u001b[0m\u001b[0;34m\u001b[0m\u001b[0m\n\u001b[1;32m   1237\u001b[0m                 \u001b[0mself\u001b[0m\u001b[0;34m.\u001b[0m\u001b[0m_retina_shape\u001b[0m\u001b[0;34m(\u001b[0m\u001b[0;34m)\u001b[0m\u001b[0;34m\u001b[0m\u001b[0;34m\u001b[0m\u001b[0m\n",
      "\u001b[0;32m~/anaconda3/lib/python3.7/site-packages/IPython/core/display.py\u001b[0m in \u001b[0;36mreload\u001b[0;34m(self)\u001b[0m\n\u001b[1;32m    650\u001b[0m         \u001b[0;34m\"\"\"Reload the raw data from file or URL.\"\"\"\u001b[0m\u001b[0;34m\u001b[0m\u001b[0;34m\u001b[0m\u001b[0m\n\u001b[1;32m    651\u001b[0m         \u001b[0;32mif\u001b[0m \u001b[0mself\u001b[0m\u001b[0;34m.\u001b[0m\u001b[0mfilename\u001b[0m \u001b[0;32mis\u001b[0m \u001b[0;32mnot\u001b[0m \u001b[0;32mNone\u001b[0m\u001b[0;34m:\u001b[0m\u001b[0;34m\u001b[0m\u001b[0;34m\u001b[0m\u001b[0m\n\u001b[0;32m--> 652\u001b[0;31m             \u001b[0;32mwith\u001b[0m \u001b[0mopen\u001b[0m\u001b[0;34m(\u001b[0m\u001b[0mself\u001b[0m\u001b[0;34m.\u001b[0m\u001b[0mfilename\u001b[0m\u001b[0;34m,\u001b[0m \u001b[0mself\u001b[0m\u001b[0;34m.\u001b[0m\u001b[0m_read_flags\u001b[0m\u001b[0;34m)\u001b[0m \u001b[0;32mas\u001b[0m \u001b[0mf\u001b[0m\u001b[0;34m:\u001b[0m\u001b[0;34m\u001b[0m\u001b[0;34m\u001b[0m\u001b[0m\n\u001b[0m\u001b[1;32m    653\u001b[0m                 \u001b[0mself\u001b[0m\u001b[0;34m.\u001b[0m\u001b[0mdata\u001b[0m \u001b[0;34m=\u001b[0m \u001b[0mf\u001b[0m\u001b[0;34m.\u001b[0m\u001b[0mread\u001b[0m\u001b[0;34m(\u001b[0m\u001b[0;34m)\u001b[0m\u001b[0;34m\u001b[0m\u001b[0;34m\u001b[0m\u001b[0m\n\u001b[1;32m    654\u001b[0m         \u001b[0;32melif\u001b[0m \u001b[0mself\u001b[0m\u001b[0;34m.\u001b[0m\u001b[0murl\u001b[0m \u001b[0;32mis\u001b[0m \u001b[0;32mnot\u001b[0m \u001b[0;32mNone\u001b[0m\u001b[0;34m:\u001b[0m\u001b[0;34m\u001b[0m\u001b[0;34m\u001b[0m\u001b[0m\n",
      "\u001b[0;31mFileNotFoundError\u001b[0m: [Errno 2] No such file or directory: 'Cambridge_map.png'"
     ]
    }
   ],
   "source": []
  },
  {
   "cell_type": "code",
   "execution_count": null,
   "metadata": {},
   "outputs": [],
   "source": []
  }
 ],
 "metadata": {
  "kernelspec": {
   "display_name": "Python 3",
   "language": "python",
   "name": "python3"
  },
  "language_info": {
   "codemirror_mode": {
    "name": "ipython",
    "version": 3
   },
   "file_extension": ".py",
   "mimetype": "text/x-python",
   "name": "python",
   "nbconvert_exporter": "python",
   "pygments_lexer": "ipython3",
   "version": "3.7.6"
  }
 },
 "nbformat": 4,
 "nbformat_minor": 4
}
